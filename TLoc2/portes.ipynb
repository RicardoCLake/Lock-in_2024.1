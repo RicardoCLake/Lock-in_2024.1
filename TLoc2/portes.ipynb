{
 "cells": [
  {
   "cell_type": "code",
   "execution_count": null,
   "metadata": {},
   "outputs": [],
   "source": [
    "import pandas as pd\n",
    "import matplotlib.pyplot as plt\n",
    "from sklearn.metrics import f1_score, precision_score, confusion_matrix, ConfusionMatrixDisplay\n",
    "import numpy as np"
   ]
  },
  {
   "cell_type": "code",
   "execution_count": null,
   "metadata": {},
   "outputs": [],
   "source": [
    "## Import data\n",
    "data_read= pd.read_csv(\"../Mesures/data03.csv\", index_col=0)"
   ]
  },
  {
   "cell_type": "code",
   "execution_count": null,
   "metadata": {},
   "outputs": [],
   "source": [
    "## Safe copy\n",
    "data = data_read.copy()\n",
    "\n",
    "## Data verification\n",
    "matrix = pd.crosstab(data['room'], data['device_id'])\n",
    "print(matrix)"
   ]
  },
  {
   "cell_type": "code",
   "execution_count": null,
   "metadata": {},
   "outputs": [],
   "source": [
    "## Groups of SSIDs\n",
    "ssids1 = [\"Guest-CentraleSupelec\", \"eduroam\", 'stop&go', 'CD91', 'fabrique2024', 'Le Toucan DÃ©chaÃ®nÃ©','Le Toucan DÃ©chaÃ®nÃ© 5GHz', 'DIRECT-0d-HP M203 LaserJet', 'DIRECT-b0-HP M203 LaserJet', 'wifi hemicycle Amphi1 5g', 'wifi hemicycle Amphi2 5g', 'wifi hemicycle 240 5g', 'wifi hemicycle Amphi2', 'wifi hemicycle 240', 'wifi hemicycle Amphi1']\n",
    "ssids2 = [\"Guest-CentraleSupelec\", \"eduroam\", 'stop&go', 'CD91', 'fabrique2024']\n",
    "\n",
    "## Selection of APs\n",
    "name_mac_relation = pd.read_csv(\"../Mesures/mac_name_relation.csv\", index_col=0)\n",
    "good_aps = name_mac_relation[name_mac_relation['ap_name'].isin(ssids2)][\"ap_mac\"].to_list()\n",
    "columns_to_maintain  = good_aps + data.columns[:5].to_list()\n",
    "data = data[data.columns.intersection(columns_to_maintain)]"
   ]
  },
  {
   "cell_type": "code",
   "execution_count": null,
   "metadata": {},
   "outputs": [],
   "source": [
    "## Data informations\n",
    "AP_columns = list(data.columns[5:])\n",
    "rooms = data['room'].unique()\n",
    "not_mac_columns = list(data.columns[:5])\n",
    "\n",
    "print(\"nb of rooms: \", len(rooms))\n",
    "print(\"nb of APs: \", len(AP_columns))\n",
    "print(\"not MAC columns: \", not_mac_columns)"
   ]
  },
  {
   "cell_type": "code",
   "execution_count": null,
   "metadata": {},
   "outputs": [],
   "source": [
    "# Filter data for room LC410\n",
    "lc410_data = data[data['room'] == 'LC410']\n",
    "\n",
    "# Filter data for parts 1 and 5\n",
    "part1_sansporte_data = lc410_data[lc410_data['part'] == 1 & lc410_data['part'] == 1]\n",
    "part5_sansporte_data = lc410_data[lc410_data['part'] == 5]\n",
    "\n",
    "# Generate pairs of samples\n",
    "pairs = []\n",
    "num_pairs = min(len(part1_data), len(part5_data))\n",
    "for index in range(num_pairs):\n",
    "    pair = (part1_data.iloc(index), part5_data.iloc(index))\n",
    "    pairs.append(pair)\n",
    "\n",
    "\n"
   ]
  }
 ],
 "metadata": {
  "language_info": {
   "name": "python"
  }
 },
 "nbformat": 4,
 "nbformat_minor": 2
}
