{
 "cells": [
  {
   "cell_type": "code",
   "execution_count": null,
   "metadata": {},
   "outputs": [],
   "source": [
    "# Data analysis\n",
    "\n",
    "\n",
    "# libraries: \n",
    "\n",
    "import numpy as np\n",
    "import pandas as pd\n",
    "import matplotlib.pyplot as plt\n",
    "\n",
    "import seaborn as sns"
   ]
  },
  {
   "cell_type": "code",
   "execution_count": null,
   "metadata": {},
   "outputs": [],
   "source": [
    "# data\n",
    "\n",
    "data = pd.read_csv('data_tog.csv', index_col= 0)"
   ]
  },
  {
   "cell_type": "code",
   "execution_count": null,
   "metadata": {},
   "outputs": [],
   "source": [
    "name_mac_relation = pd.read_csv(\"mac_name_relation.csv\", index_col=0)\n",
    "good_aps = name_mac_relation[name_mac_relation['ap_name'].isin( [\"Guest-CentraleSupelec\", \"eduroam\", 'stop&go', 'CD91', 'fabrique2024'])][\"ap_mac\"].to_list()\n",
    "columns_to_maintain  = good_aps + data.columns[:5].to_list()\n",
    "data = data[data.columns.intersection(columns_to_maintain)]\n"
   ]
  },
  {
   "cell_type": "code",
   "execution_count": null,
   "metadata": {},
   "outputs": [],
   "source": [
    "columns_features = ['timestamp', 'room', 'device_id', 'door_status', 'room_part']\n",
    "macColumns = [data for data in data.columns if data not in columns_features]"
   ]
  },
  {
   "cell_type": "code",
   "execution_count": null,
   "metadata": {},
   "outputs": [],
   "source": [
    "dataV = pd.DataFrame([row for index, row in data.iterrows() if 'V' in row.values])\n",
    "dataG = pd.DataFrame([row for index, row in data.iterrows() if 'G' in row.values])\n",
    "dataC = pd.DataFrame([row for index, row in data.iterrows() if 'C' in row.values])\n",
    "dataR = pd.DataFrame([row for index, row in data.iterrows() if 'R' in row.values])"
   ]
  },
  {
   "cell_type": "code",
   "execution_count": null,
   "metadata": {},
   "outputs": [],
   "source": [
    "dataV.drop(columns= 'device_id')\n",
    "dataG.drop(columns= 'device_id')\n",
    "dataC.drop(columns= 'device_id')\n",
    "dataR.drop(columns= 'device_id')"
   ]
  },
  {
   "cell_type": "code",
   "execution_count": null,
   "metadata": {},
   "outputs": [],
   "source": []
  },
  {
   "cell_type": "code",
   "execution_count": null,
   "metadata": {},
   "outputs": [],
   "source": [
    "mac_mapping = {mac: i+1 for i, mac in enumerate(macColumns)}"
   ]
  },
  {
   "cell_type": "code",
   "execution_count": null,
   "metadata": {},
   "outputs": [],
   "source": [
    "from sklearn.metrics import mean_squared_error\n",
    "\n",
    "\n",
    "def analysisRoom(df,door_status, room_part, room): \n",
    "\n",
    "    data_filtered =  df[(df['door_status'] == door_status) & (df['room_part'] == room_part) & (df['room'] == room)]\n",
    "    data_filtered.rename(columns=mac_mapping, inplace=True)\n",
    "    data_filtered = data_filtered.drop(columns=columns_features)\n",
    "    non_null_counts = data_filtered.count()\n",
    "    del(data_filtered)\n",
    "    return non_null_counts"
   ]
  },
  {
   "cell_type": "code",
   "execution_count": null,
   "metadata": {},
   "outputs": [],
   "source": [
    "\n",
    "# Assuming analysisRoom returns the power values for a given MAC address\n",
    "non_null_counts_V = analysisRoom(dataV, 0, 4, 'LC414')\n",
    "non_null_counts_G = analysisRoom(dataG, 0, 4, 'LC414')\n",
    "non_null_counts_R = analysisRoom(dataR, 0, 4, 'LC414')\n",
    "non_null_counts_C = analysisRoom(dataC, 0, 4, 'LC414')\n",
    "\n",
    "\n",
    "# Assuming analysisRoom returns the power values for a given MAC address\n",
    "dataframes = {'DataV': dataV, 'DataG': dataG, 'DataR': dataR, 'DataC': dataC}\n",
    "column_names = ['DataV', 'DataG', 'DataR', 'DataC']\n",
    "\n",
    "# Create an empty DataFrame with the MAC addresses as index\n",
    "sale = 'LC426'\n",
    "porte = 0 # 0, si ouverte, 1, si fermé \n",
    "part_salle = 3\n",
    "combined_data = pd.DataFrame(index=analysisRoom(dataV, porte, part_salle, sale).index)\n",
    "\n",
    "# Iterate through each dataframe and add it as a column to the combined dataframe\n",
    "for column_name, dataframe in dataframes.items():\n",
    "    combined_data[column_name] = analysisRoom(dataframe, porte ,part_salle, sale)\n",
    "\n",
    "# Reset index to convert MAC addresses into a column\n",
    "combined_data.reset_index(inplace=True)\n",
    "combined_data.rename(columns={'index': 'MAC Address'}, inplace=True)\n",
    "\n",
    "\n",
    "combined_data = combined_data.loc[(combined_data.iloc[:,2:] != 0).any(axis=1)]\n"
   ]
  },
  {
   "cell_type": "code",
   "execution_count": null,
   "metadata": {},
   "outputs": [],
   "source": [
    "combined_data.drop(columns = 'MAC Address')['DataV']"
   ]
  },
  {
   "cell_type": "code",
   "execution_count": null,
   "metadata": {},
   "outputs": [],
   "source": [
    "combined_data"
   ]
  },
  {
   "cell_type": "code",
   "execution_count": null,
   "metadata": {},
   "outputs": [],
   "source": []
  },
  {
   "cell_type": "code",
   "execution_count": null,
   "metadata": {},
   "outputs": [],
   "source": [
    "# Plotting the histogram with transposed data using a bar plot\n",
    "plt.bar(combined_data['MAC Address'], combined_data['DataV'])  # Plotting the bar plot\n",
    "#plt.bar(combined_data['MAC Address'], combined_data['DataC'],color ='black')  # Plotting the bar plot\n",
    "plt.xlabel('MAC Address')  # Assuming you want to label the x-axis with index values\n",
    "plt.ylabel('# of measures')  # Assuming the y-axis represents the frequency of values\n",
    "plt.title('Salle {salle} - {porte1} - {part_salle1}'.format(salle = sale, porte1 = porte, part_salle1 = part_salle))  # Title of the plot\n",
    "\n",
    "plt.grid(True)  # Show gridlines\n",
    "plt.show()"
   ]
  },
  {
   "cell_type": "code",
   "execution_count": null,
   "metadata": {},
   "outputs": [],
   "source": [
    "import matplotlib.pyplot as plt\n",
    "\n",
    "# Create a figure and axis objects for subplots\n",
    "fig, axs = plt.subplots(1, 3, figsize=(15, 5))\n",
    "\n",
    "# Plotting the first set of data\n",
    "axs[0].bar(combined_data['MAC Address'], combined_data['DataV'], color=(0,1,1,0.8))\n",
    "axs[0].bar(combined_data['MAC Address'], combined_data['DataG'], color=(1,1,0,0.8))\n",
    "axs[0].set_xlabel('MAC Address')\n",
    "axs[0].set_ylabel('# of measures')\n",
    "axs[0].set_title('Salle {salle} - {porte1} - {part_salle1}'.format(salle = sale, porte1 = porte, part_salle1 = part_salle))\n",
    "axs[0].legend(['Data_Vitor', 'Data_Guilherme'])\n",
    "axs[0].grid(True)\n",
    "\n",
    "# Plotting the second set of data\n",
    "axs[1].bar(combined_data['MAC Address'], combined_data['DataV'], color=(0,1,1,0.8))\n",
    "axs[1].bar(combined_data['MAC Address'], combined_data['DataC'], color=(1,1,0,0.8))\n",
    "axs[1].set_xlabel('MAC Address')\n",
    "axs[1].set_ylabel('# of measures')\n",
    "axs[1].set_title('Salle {salle} - {porte1} - {part_salle1}'.format(salle = sale, porte1 = porte, part_salle1 = part_salle))\n",
    "axs[1].legend(['Data_Vitor', 'Data_Corentin'])\n",
    "axs[1].grid(True)\n",
    "\n",
    "# Plotting the third set of data\n",
    "axs[2].bar(combined_data['MAC Address'], combined_data['DataV'], color=(0,1,1,0.8))\n",
    "axs[2].bar(combined_data['MAC Address'], combined_data['DataR'], color=(1,1,0,0.8))\n",
    "axs[2].set_xlabel('MAC Address')\n",
    "axs[2].set_ylabel('# of measures')\n",
    "axs[2].set_title('Salle {salle} - {porte1} - {part_salle1}'.format(salle = sale, porte1 = porte, part_salle1 = part_salle))\n",
    "axs[2].legend(['Data_Vitor', 'Data_Ricardo'])\n",
    "axs[2].grid(True)\n",
    "\n",
    "# Show the plot\n",
    "plt.tight_layout()\n",
    "plt.show()\n"
   ]
  },
  {
   "cell_type": "code",
   "execution_count": null,
   "metadata": {},
   "outputs": [],
   "source": [
    "\n",
    "\n",
    "def analysisRoom_MSE(df, df_ref, door_status, room_part, room):\n",
    "    data_filtered = df[(df['door_status'] == door_status) & (df['room_part'] == room_part) & (df['room'] == room)].copy()\n",
    "    data_filtered_ref = df_ref[(df_ref['door_status'] == door_status) & (df_ref['room_part'] == room_part) & (df_ref['room'] == room)].copy()\n",
    "    data_filtered.rename(columns=mac_mapping, inplace=True)\n",
    "    data_filtered_ref.rename(columns=mac_mapping, inplace=True)\n",
    "    data_filtered = data_filtered.drop(columns=columns_features)\n",
    "    data_filtered_ref = data_filtered_ref.drop(columns=columns_features)\n",
    "\n",
    "    # Convertir NaN a 0\n",
    "    data_filtered = np.nan_to_num(data_filtered)\n",
    "    data_filtered_ref = np.nan_to_num(data_filtered_ref)\n",
    "\n",
    "    MSE = mean_squared_error(data_filtered, data_filtered_ref)\n",
    "    return MSE\n"
   ]
  },
  {
   "cell_type": "code",
   "execution_count": null,
   "metadata": {},
   "outputs": [],
   "source": []
  },
  {
   "cell_type": "code",
   "execution_count": 176,
   "metadata": {},
   "outputs": [
    {
     "name": "stdout",
     "output_type": "stream",
     "text": [
      "DataV\n",
      "DataG\n",
      "DataR\n",
      "DataC\n"
     ]
    },
    {
     "name": "stderr",
     "output_type": "stream",
     "text": [
      "C:\\Users\\vopsf\\AppData\\Local\\Temp\\ipykernel_9512\\1403962888.py:7: SettingWithCopyWarning: \n",
      "A value is trying to be set on a copy of a slice from a DataFrame\n",
      "\n",
      "See the caveats in the documentation: https://pandas.pydata.org/pandas-docs/stable/user_guide/indexing.html#returning-a-view-versus-a-copy\n",
      "  data_filtered.rename(columns=mac_mapping, inplace=True)\n"
     ]
    },
    {
     "data": {
      "text/html": [
       "<div>\n",
       "<style scoped>\n",
       "    .dataframe tbody tr th:only-of-type {\n",
       "        vertical-align: middle;\n",
       "    }\n",
       "\n",
       "    .dataframe tbody tr th {\n",
       "        vertical-align: top;\n",
       "    }\n",
       "\n",
       "    .dataframe thead th {\n",
       "        text-align: right;\n",
       "    }\n",
       "</style>\n",
       "<table border=\"1\" class=\"dataframe\">\n",
       "  <thead>\n",
       "    <tr style=\"text-align: right;\">\n",
       "      <th></th>\n",
       "      <th>DataG</th>\n",
       "      <th>DataR</th>\n",
       "      <th>DataC</th>\n",
       "    </tr>\n",
       "  </thead>\n",
       "  <tbody>\n",
       "    <tr>\n",
       "      <th>1</th>\n",
       "      <td>486.606797</td>\n",
       "      <td>418.589731</td>\n",
       "      <td>334.599853</td>\n",
       "    </tr>\n",
       "    <tr>\n",
       "      <th>2</th>\n",
       "      <td>486.606797</td>\n",
       "      <td>418.589731</td>\n",
       "      <td>334.599853</td>\n",
       "    </tr>\n",
       "    <tr>\n",
       "      <th>3</th>\n",
       "      <td>486.606797</td>\n",
       "      <td>418.589731</td>\n",
       "      <td>334.599853</td>\n",
       "    </tr>\n",
       "    <tr>\n",
       "      <th>4</th>\n",
       "      <td>486.606797</td>\n",
       "      <td>418.589731</td>\n",
       "      <td>334.599853</td>\n",
       "    </tr>\n",
       "    <tr>\n",
       "      <th>5</th>\n",
       "      <td>486.606797</td>\n",
       "      <td>418.589731</td>\n",
       "      <td>334.599853</td>\n",
       "    </tr>\n",
       "    <tr>\n",
       "      <th>...</th>\n",
       "      <td>...</td>\n",
       "      <td>...</td>\n",
       "      <td>...</td>\n",
       "    </tr>\n",
       "    <tr>\n",
       "      <th>405</th>\n",
       "      <td>486.606797</td>\n",
       "      <td>418.589731</td>\n",
       "      <td>334.599853</td>\n",
       "    </tr>\n",
       "    <tr>\n",
       "      <th>406</th>\n",
       "      <td>486.606797</td>\n",
       "      <td>418.589731</td>\n",
       "      <td>334.599853</td>\n",
       "    </tr>\n",
       "    <tr>\n",
       "      <th>407</th>\n",
       "      <td>486.606797</td>\n",
       "      <td>418.589731</td>\n",
       "      <td>334.599853</td>\n",
       "    </tr>\n",
       "    <tr>\n",
       "      <th>408</th>\n",
       "      <td>486.606797</td>\n",
       "      <td>418.589731</td>\n",
       "      <td>334.599853</td>\n",
       "    </tr>\n",
       "    <tr>\n",
       "      <th>409</th>\n",
       "      <td>486.606797</td>\n",
       "      <td>418.589731</td>\n",
       "      <td>334.599853</td>\n",
       "    </tr>\n",
       "  </tbody>\n",
       "</table>\n",
       "<p>409 rows × 3 columns</p>\n",
       "</div>"
      ],
      "text/plain": [
       "          DataG       DataR       DataC\n",
       "1    486.606797  418.589731  334.599853\n",
       "2    486.606797  418.589731  334.599853\n",
       "3    486.606797  418.589731  334.599853\n",
       "4    486.606797  418.589731  334.599853\n",
       "5    486.606797  418.589731  334.599853\n",
       "..          ...         ...         ...\n",
       "405  486.606797  418.589731  334.599853\n",
       "406  486.606797  418.589731  334.599853\n",
       "407  486.606797  418.589731  334.599853\n",
       "408  486.606797  418.589731  334.599853\n",
       "409  486.606797  418.589731  334.599853\n",
       "\n",
       "[409 rows x 3 columns]"
      ]
     },
     "execution_count": 176,
     "metadata": {},
     "output_type": "execute_result"
    }
   ],
   "source": [
    "MSE_results = pd.DataFrame(index=analysisRoom(dataV, porte, part_salle, sale).index)\n",
    "\n",
    "\n",
    "for column_name, dataframe in dataframes.items():\n",
    "    print(column_name)\n",
    "    if column_name!= 'DataV':\n",
    "        MSE_results[column_name] = analysisRoom_MSE(dataframe, dataV, porte, part_salle, sale)\n",
    "\n",
    "MSE_results\n"
   ]
  },
  {
   "cell_type": "code",
   "execution_count": null,
   "metadata": {},
   "outputs": [],
   "source": [
    "dataframes.keys()"
   ]
  }
 ],
 "metadata": {
  "kernelspec": {
   "display_name": "Python 3",
   "language": "python",
   "name": "python3"
  },
  "language_info": {
   "codemirror_mode": {
    "name": "ipython",
    "version": 3
   },
   "file_extension": ".py",
   "mimetype": "text/x-python",
   "name": "python",
   "nbconvert_exporter": "python",
   "pygments_lexer": "ipython3",
   "version": "3.11.8"
  }
 },
 "nbformat": 4,
 "nbformat_minor": 2
}
